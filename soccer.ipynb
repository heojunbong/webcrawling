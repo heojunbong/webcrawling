{
 "cells": [
  {
   "cell_type": "code",
   "execution_count": null,
   "metadata": {},
   "outputs": [],
   "source": [
    "import time\n",
    "from selenium import webdriver\n",
    "from selenium.webdriver.chrome.service import Service as ChromeService\n",
    "from selenium.webdriver.common.by import By\n",
    "from webdriver_manager.chrome import ChromeDriverManager\n",
    "\n",
    "driver = webdriver.Chrome(service=ChromeService(ChromeDriverManager().install()))\n",
    "year_list = list(range(2015, 2024))\n",
    "for year in year_list:\n",
    "    url = f\"https://sports.news.naver.com/wfootball/record/index?category=epl&year={year}&tab=team\"\n",
    "    driver.get(url)\n",
    "    time.sleep(1)\n",
    "\n",
    "    scores = driver.find_elements(By.CSS_SELECTOR, \"div.record_tbl td.selected\")\n",
    "    teams = driver.find_elements(By.CSS_SELECTOR, \"div.record_tbl span.name\")\n",
    "    print(f\"--------------- {year} 년도 결과 -----------------\")\n",
    "    index = 1\n",
    "    for score, team in zip(scores, teams):\n",
    "        print(f\"{index}위 : {team.text} / 승점 : {score.text}\")\n",
    "        index += 1\n",
    "    print(\"----------------------------------------------\")\n",
    "driver.close()"
   ]
  }
 ],
 "metadata": {
  "language_info": {
   "name": "python"
  }
 },
 "nbformat": 4,
 "nbformat_minor": 2
}
