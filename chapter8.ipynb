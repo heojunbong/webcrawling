{
 "cells": [
  {
   "cell_type": "code",
   "execution_count": 1,
   "metadata": {},
   "outputs": [
    {
     "name": "stdout",
     "output_type": "stream",
     "text": [
      "[{'name': 'kyeongrok', 'age': '32'}]\n"
     ]
    }
   ],
   "source": [
    "### json은 중괄호로 시작해서 중괄호로 끝난다.\n",
    "\n",
    "import json \n",
    "json_str='[{\"name\":\"kyeongrok\",\"age\":\"32\"}]'\n",
    "json_obj=json.loads(json_str)\n",
    "print(json_obj)"
   ]
  },
  {
   "cell_type": "code",
   "execution_count": 2,
   "metadata": {},
   "outputs": [
    {
     "name": "stdout",
     "output_type": "stream",
     "text": [
      "{'name': 'kyeongrok', 'age': '32'}\n"
     ]
    }
   ],
   "source": [
    "print(json_obj[0])"
   ]
  },
  {
   "cell_type": "code",
   "execution_count": 3,
   "metadata": {},
   "outputs": [
    {
     "name": "stdout",
     "output_type": "stream",
     "text": [
      "{'name': 'bomi', 'age': '25'}\n",
      "[{'name': 'kyeongrok', 'age': '32'}, {'name': 'bomi', 'age': '25'}]\n"
     ]
    }
   ],
   "source": [
    "import json \n",
    "json_str='[{\"name\":\"kyeongrok\",\"age\":\"32\"},{\"name\":\"bomi\",\"age\":\"25\"}]'\n",
    "json_obj=json.loads(json_str)\n",
    "print(json_obj[1])\n",
    "print(json_obj[0:2])"
   ]
  },
  {
   "cell_type": "code",
   "execution_count": 4,
   "metadata": {},
   "outputs": [
    {
     "ename": "IndexError",
     "evalue": "list index out of range",
     "output_type": "error",
     "traceback": [
      "\u001b[0;31m---------------------------------------------------------------------------\u001b[0m",
      "\u001b[0;31mIndexError\u001b[0m                                Traceback (most recent call last)",
      "\u001b[1;32m/dshome/WoongLab/heo/webcrawling/chapter08_json/02_python_json/practice.ipynb Cell 4\u001b[0m in \u001b[0;36m1\n\u001b[0;32m----> <a href='vscode-notebook-cell://ssh-remote%2B7b22686f73744e616d65223a22422d536572766572227d/dshome/WoongLab/heo/webcrawling/chapter08_json/02_python_json/practice.ipynb#W3sdnNjb2RlLXJlbW90ZQ%3D%3D?line=0'>1</a>\u001b[0m \u001b[39mprint\u001b[39m(json_obj[\u001b[39m2\u001b[39m])\n",
      "\u001b[0;31mIndexError\u001b[0m: list index out of range"
     ]
    }
   ],
   "source": [
    "### 아래와 같이 치면 에러가 남\n",
    "\n",
    "print(json_obj[2])"
   ]
  },
  {
   "cell_type": "code",
   "execution_count": 5,
   "metadata": {},
   "outputs": [
    {
     "name": "stdout",
     "output_type": "stream",
     "text": [
      "[{'name': 'kyeongrok', 'age': '32'}, {'name': 'bomi', 'age': '25'}]\n"
     ]
    }
   ],
   "source": [
    "print(json_obj[0:2])"
   ]
  },
  {
   "cell_type": "code",
   "execution_count": 6,
   "metadata": {},
   "outputs": [
    {
     "name": "stdout",
     "output_type": "stream",
     "text": [
      "{'name': 'kyeongrok', 'age': '32'}\n",
      "kyeongrok\n",
      "32\n"
     ]
    }
   ],
   "source": [
    "print(json_obj[0])\n",
    "print(json_obj[0]['name'])\n",
    "print(json_obj[0]['age'])"
   ]
  },
  {
   "cell_type": "code",
   "execution_count": 7,
   "metadata": {},
   "outputs": [
    {
     "name": "stdout",
     "output_type": "stream",
     "text": [
      "{'name': 'kyeongrok', 'age': '32'}\n",
      "{'name': 'bomi', 'age': '25'}\n"
     ]
    }
   ],
   "source": [
    "for student in json_obj:\n",
    "    print(student)"
   ]
  },
  {
   "cell_type": "code",
   "execution_count": 8,
   "metadata": {},
   "outputs": [
    {
     "name": "stdout",
     "output_type": "stream",
     "text": [
      "kyeongrok 32\n",
      "bomi 25\n"
     ]
    }
   ],
   "source": [
    "for student in json_obj:\n",
    "    print(student['name'],student['age'])"
   ]
  },
  {
   "cell_type": "code",
   "execution_count": 9,
   "metadata": {},
   "outputs": [
    {
     "name": "stdout",
     "output_type": "stream",
     "text": [
      "kyeongrok,32\n",
      "bomi,25\n"
     ]
    }
   ],
   "source": [
    "for student in json_obj:\n",
    "    print(student['name']+\",\"+student['age'])"
   ]
  },
  {
   "cell_type": "code",
   "execution_count": null,
   "metadata": {},
   "outputs": [],
   "source": []
  }
 ],
 "metadata": {
  "kernelspec": {
   "display_name": "Python 3",
   "language": "python",
   "name": "python3"
  },
  "language_info": {
   "codemirror_mode": {
    "name": "ipython",
    "version": 3
   },
   "file_extension": ".py",
   "mimetype": "text/x-python",
   "name": "python",
   "nbconvert_exporter": "python",
   "pygments_lexer": "ipython3",
   "version": "3.9.16"
  },
  "orig_nbformat": 4
 },
 "nbformat": 4,
 "nbformat_minor": 2
}
