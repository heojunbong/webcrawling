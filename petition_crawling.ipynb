{
 "cells": [
  {
   "cell_type": "code",
   "execution_count": null,
   "metadata": {},
   "outputs": [],
   "source": [
    "### 내 노트북 컴퓨터 버전으로는 실행이 오류나지만 다른 컴퓨터에서는 실행하면 실행됨\n",
    "\n",
    "from selenium import webdriver\n",
    "from selenium.webdriver.chrome.options import Options\n",
    "from selenium.webdriver.common.by import By\n",
    "from bs4 import BeautifulSoup\n",
    "import time\n",
    "\n",
    "chrome_options = Options()\n",
    "chrome_options.add_experimental_option(\"detach\", True)\n",
    "\n",
    "browser = webdriver.Chrome(options=chrome_options)\n",
    "browser.maximize_window()\n",
    "\n",
    "page_number = 1\n",
    "\n",
    "while True:\n",
    "    url = f\"https://petitions.assembly.go.kr/status/onGoing?start={page_number}\"\n",
    "    browser.get(url)\n",
    "\n",
    "    time.sleep(5)\n",
    "    \n",
    "    soup = BeautifulSoup(browser.page_source, 'html.parser')\n",
    "\n",
    "    # 화면 가장 아래로 스크롤 내리기\n",
    "    browser.execute_script(\"window.scrollTo(0,document.body.scrollHeight)\")\n",
    "\n",
    "    tag = soup.find(\"div\", attrs={\"class\": \"ListDiv\"}).find(\"ul\")\n",
    "\n",
    "    for litag in tag.find_all(\"li\"):  # li 태그 반복\n",
    "        ultag = litag.find(\"div\", attrs={\"class\": \"BoxWrap\"})\n",
    "        if ultag:  # AttributeError NoneType -> 'ultag'가 존재하는 경우에만 'a' 요소 찾기\n",
    "            atag = ultag.find(\"a\")\n",
    "            if atag:  # 'a' 요소가 존재하는 경우에만 제목 가져오기\n",
    "                title = atag.find(\"dl\").find(\"dd\").get_text()\n",
    "                print(title)\n",
    "\n",
    "    try:\n",
    "        next_button = browser.find_element(By.LINK_TEXT, '다음')  # 수정된 부분\n",
    "        next_button.click()\n",
    "        page_number += 1\n",
    "\n",
    "    except:\n",
    "        break  # 다음 페이지가 없으면 종료\n",
    "\n",
    "browser.quit()"
   ]
  }
 ],
 "metadata": {
  "language_info": {
   "name": "python"
  }
 },
 "nbformat": 4,
 "nbformat_minor": 2
}
