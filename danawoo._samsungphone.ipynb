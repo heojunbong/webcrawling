{
 "cells": [
  {
   "cell_type": "code",
   "execution_count": null,
   "metadata": {},
   "outputs": [],
   "source": [
    "import time\n",
    "from selenium import webdriver\n",
    "from selenium.webdriver.chrome.service import Service as ChromeService\n",
    "from selenium.webdriver.common.by import By\n",
    "from webdriver_manager.chrome import ChromeDriverManager\n",
    "from selenium.webdriver.common.keys import Keys\n",
    "\n",
    "# 웹 드라이버 초기화\n",
    "driver = webdriver.Chrome(service=ChromeService(ChromeDriverManager().install()))\n",
    "# 현재 페이지의 댓글을 크롤링\n",
    "channel_url = 'https://www.enuri.com/detail.jsp?modelno=101805210'\n",
    "# 채널 페이지로 이동\n",
    "driver.get(channel_url)\n",
    "\n",
    "page_number = 1\n",
    "# \"다음 페이지\" 버튼을 클릭하며 댓글 크롤링하는 루프\n",
    "while True:\n",
    "    p_elements = driver.find_elements(By.CLASS_NAME, \"tx_sub\")\n",
    "    for p_element in p_elements:\n",
    "        p_text = p_element.text\n",
    "        print(p_text)\n",
    "\n",
    "    # 다음 페이지 번호 클릭하는 알고리즘\n",
    "    page_number += 1\n",
    "    button_elements = driver.find_elements(By.CSS_SELECTOR, \"div.danawa_review a.page_num\")\n",
    "    for button in button_elements:\n",
    "        if int(button.text) == page_number:\n",
    "            button.click()\n",
    "            time.sleep(1)\n",
    "            break\n",
    "    else: # for~else문을 사용했습니다. 위 for문을 돌다가 break 명령어를 못만나게 되면, 이 else문으로 오게 됩니다. 반면 for문을 돌다가 break를 만났으면 이 else문으로 오지 않습니다.\n",
    "        break # while True 탈출"
   ]
  }
 ],
 "metadata": {
  "language_info": {
   "name": "python"
  }
 },
 "nbformat": 4,
 "nbformat_minor": 2
}
